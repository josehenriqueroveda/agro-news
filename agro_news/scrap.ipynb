{
 "cells": [
  {
   "cell_type": "code",
   "execution_count": 15,
   "metadata": {},
   "outputs": [],
   "source": [
    "import os\n",
    "from datetime import datetime\n",
    "\n",
    "import pandas as pd\n",
    "import requests\n",
    "from bs4 import BeautifulSoup\n",
    "from dotenv import find_dotenv\n",
    "from dotenv import load_dotenv"
   ]
  },
  {
   "cell_type": "code",
   "execution_count": 16,
   "metadata": {},
   "outputs": [],
   "source": [
    "def get_soup(url):\n",
    "    try:\n",
    "        HEADERS = {\n",
    "            \"User-Agent\": \"Mozilla/5.0 (Windows NT 10.0; Win64; x64) AppleWebKit/537.36 (KHTML, like Gecko) Chrome/58.0.3029.110 Safari/537.3\"\n",
    "        }\n",
    "        response = requests.get(url, headers=HEADERS)\n",
    "        return BeautifulSoup(response.content, \"html.parser\")\n",
    "    except Exception as e:\n",
    "        print(f\"Failed to get soup from url {url}. Error: {e}\")\n",
    "        raise"
   ]
  },
  {
   "cell_type": "code",
   "execution_count": 17,
   "metadata": {},
   "outputs": [],
   "source": [
    "crop = \"soja\"\n",
    "URL = f\"https://www.agrolink.com.br/noticias/cultura/{crop}/lista\"\n",
    "soup = get_soup(URL)"
   ]
  },
  {
   "cell_type": "code",
   "execution_count": 18,
   "metadata": {},
   "outputs": [],
   "source": [
    "news_divs = soup.find_all('div', class_='col-auto col-blocks')"
   ]
  },
  {
   "cell_type": "code",
   "execution_count": 25,
   "metadata": {},
   "outputs": [],
   "source": [
    "news_list = []\n",
    "\n",
    "for div in news_divs:\n",
    "    news_item = {}\n",
    "    \n",
    "    # Extrair o título da notícia\n",
    "    news_title_tag = div.find('a', class_='news-list-main-link-title')\n",
    "    if news_title_tag:\n",
    "        news_item['news_title'] = news_title_tag.h4.text.strip()\n",
    "        news_item['link'] = news_title_tag['href']\n",
    "        news_item['link'] = \"https://www.agrolink.com.br\" + news_item['link']\n",
    "    \n",
    "    # Extrair a data\n",
    "    date_tag = div.find_all('a')[1]\n",
    "    if date_tag:\n",
    "        news_item['date_news'] = date_tag.text.strip().split(' ')[-2]\n",
    "    \n",
    "    # Extrair a descrição da notícia\n",
    "    news_sub_tag = div.find('a', class_='news-list-main-link-description')\n",
    "    if news_sub_tag:\n",
    "        news_item['news_sub'] = news_sub_tag.text.strip()\n",
    "    \n",
    "    if news_item:\n",
    "        news_list.append(news_item)"
   ]
  },
  {
   "cell_type": "code",
   "execution_count": 30,
   "metadata": {},
   "outputs": [],
   "source": [
    "df = pd.DataFrame(news_list)"
   ]
  },
  {
   "cell_type": "code",
   "execution_count": 26,
   "metadata": {},
   "outputs": [],
   "source": [
    "def create_dataframe(data_list, crop):\n",
    "    try:\n",
    "        df = pd.concat(\n",
    "            [\n",
    "                pd.DataFrame(\n",
    "                    {\"date_news\": data[\"date_news\"], \"news_title\": data[\"news_title\"], \"news_sub\": data[\"news_sub\"], \"link\": data[\"link\"], \"crop\": crop}\n",
    "                )\n",
    "                for data in data_list\n",
    "            ],\n",
    "            ignore_index=True,\n",
    "        )\n",
    "        df[\"date_news\"] = pd.to_datetime(\n",
    "            df[\"date_news\"], errors=\"coerce\", dayfirst=True\n",
    "        )\n",
    "        return df\n",
    "    except Exception as e:\n",
    "        print(f\"Failed to create dataframe. Error: {e}\")\n",
    "        raise"
   ]
  },
  {
   "cell_type": "code",
   "execution_count": 31,
   "metadata": {},
   "outputs": [
    {
     "data": {
      "text/html": [
       "<div>\n",
       "<style scoped>\n",
       "    .dataframe tbody tr th:only-of-type {\n",
       "        vertical-align: middle;\n",
       "    }\n",
       "\n",
       "    .dataframe tbody tr th {\n",
       "        vertical-align: top;\n",
       "    }\n",
       "\n",
       "    .dataframe thead th {\n",
       "        text-align: right;\n",
       "    }\n",
       "</style>\n",
       "<table border=\"1\" class=\"dataframe\">\n",
       "  <thead>\n",
       "    <tr style=\"text-align: right;\">\n",
       "      <th></th>\n",
       "      <th>news_title</th>\n",
       "      <th>link</th>\n",
       "      <th>date_news</th>\n",
       "      <th>news_sub</th>\n",
       "    </tr>\n",
       "  </thead>\n",
       "  <tbody>\n",
       "    <tr>\n",
       "      <th>0</th>\n",
       "      <td>Queda geral para os preços da soja</td>\n",
       "      <td>https://www.agrolink.com.br/noticias/cultura/s...</td>\n",
       "      <td>31/07/2024</td>\n",
       "      <td>As quedas expressivas também ocorreram no Mato...</td>\n",
       "    </tr>\n",
       "    <tr>\n",
       "      <th>1</th>\n",
       "      <td>Soja negociada em Chicago fecha em baixa</td>\n",
       "      <td>https://www.agrolink.com.br/noticias/cultura/s...</td>\n",
       "      <td>31/07/2024</td>\n",
       "      <td>As cotações da oleaginosa seguem em queda acen...</td>\n",
       "    </tr>\n",
       "    <tr>\n",
       "      <th>2</th>\n",
       "      <td>Avanço na regulação torna Brasil promissor em ...</td>\n",
       "      <td>https://www.agrolink.com.br/noticias/cultura/s...</td>\n",
       "      <td>31/07/2024</td>\n",
       "      <td>“O crescimento dos bioinsumos no Brasil enfren...</td>\n",
       "    </tr>\n",
       "    <tr>\n",
       "      <th>3</th>\n",
       "      <td>Saiba o que está influenciando os preços da soja</td>\n",
       "      <td>https://www.agrolink.com.br/noticias/cultura/s...</td>\n",
       "      <td>31/07/2024</td>\n",
       "      <td>Mercado da soja está atravessando um período d...</td>\n",
       "    </tr>\n",
       "    <tr>\n",
       "      <th>4</th>\n",
       "      <td>Queda na produção nacional impulsiona importaç...</td>\n",
       "      <td>https://www.agrolink.com.br/noticias/cultura/s...</td>\n",
       "      <td>30/07/2024</td>\n",
       "      <td>Paraguai é o principal fornecedor</td>\n",
       "    </tr>\n",
       "  </tbody>\n",
       "</table>\n",
       "</div>"
      ],
      "text/plain": [
       "                                          news_title  \\\n",
       "0                 Queda geral para os preços da soja   \n",
       "1           Soja negociada em Chicago fecha em baixa   \n",
       "2  Avanço na regulação torna Brasil promissor em ...   \n",
       "3   Saiba o que está influenciando os preços da soja   \n",
       "4  Queda na produção nacional impulsiona importaç...   \n",
       "\n",
       "                                                link   date_news  \\\n",
       "0  https://www.agrolink.com.br/noticias/cultura/s...  31/07/2024   \n",
       "1  https://www.agrolink.com.br/noticias/cultura/s...  31/07/2024   \n",
       "2  https://www.agrolink.com.br/noticias/cultura/s...  31/07/2024   \n",
       "3  https://www.agrolink.com.br/noticias/cultura/s...  31/07/2024   \n",
       "4  https://www.agrolink.com.br/noticias/cultura/s...  30/07/2024   \n",
       "\n",
       "                                            news_sub  \n",
       "0  As quedas expressivas também ocorreram no Mato...  \n",
       "1  As cotações da oleaginosa seguem em queda acen...  \n",
       "2  “O crescimento dos bioinsumos no Brasil enfren...  \n",
       "3  Mercado da soja está atravessando um período d...  \n",
       "4                  Paraguai é o principal fornecedor  "
      ]
     },
     "execution_count": 31,
     "metadata": {},
     "output_type": "execute_result"
    }
   ],
   "source": [
    "df.head()"
   ]
  },
  {
   "cell_type": "code",
   "execution_count": 33,
   "metadata": {},
   "outputs": [],
   "source": [
    "df['date_news'] = pd.to_datetime(df['date_news'], errors='coerce', dayfirst=True)"
   ]
  },
  {
   "cell_type": "code",
   "execution_count": 35,
   "metadata": {},
   "outputs": [
    {
     "data": {
      "text/html": [
       "<div>\n",
       "<style scoped>\n",
       "    .dataframe tbody tr th:only-of-type {\n",
       "        vertical-align: middle;\n",
       "    }\n",
       "\n",
       "    .dataframe tbody tr th {\n",
       "        vertical-align: top;\n",
       "    }\n",
       "\n",
       "    .dataframe thead th {\n",
       "        text-align: right;\n",
       "    }\n",
       "</style>\n",
       "<table border=\"1\" class=\"dataframe\">\n",
       "  <thead>\n",
       "    <tr style=\"text-align: right;\">\n",
       "      <th></th>\n",
       "      <th>news_title</th>\n",
       "      <th>link</th>\n",
       "      <th>date_news</th>\n",
       "      <th>news_sub</th>\n",
       "    </tr>\n",
       "  </thead>\n",
       "  <tbody>\n",
       "    <tr>\n",
       "      <th>0</th>\n",
       "      <td>Queda geral para os preços da soja</td>\n",
       "      <td>https://www.agrolink.com.br/noticias/cultura/s...</td>\n",
       "      <td>2024-07-31</td>\n",
       "      <td>As quedas expressivas também ocorreram no Mato...</td>\n",
       "    </tr>\n",
       "    <tr>\n",
       "      <th>1</th>\n",
       "      <td>Soja negociada em Chicago fecha em baixa</td>\n",
       "      <td>https://www.agrolink.com.br/noticias/cultura/s...</td>\n",
       "      <td>2024-07-31</td>\n",
       "      <td>As cotações da oleaginosa seguem em queda acen...</td>\n",
       "    </tr>\n",
       "    <tr>\n",
       "      <th>2</th>\n",
       "      <td>Avanço na regulação torna Brasil promissor em ...</td>\n",
       "      <td>https://www.agrolink.com.br/noticias/cultura/s...</td>\n",
       "      <td>2024-07-31</td>\n",
       "      <td>“O crescimento dos bioinsumos no Brasil enfren...</td>\n",
       "    </tr>\n",
       "    <tr>\n",
       "      <th>3</th>\n",
       "      <td>Saiba o que está influenciando os preços da soja</td>\n",
       "      <td>https://www.agrolink.com.br/noticias/cultura/s...</td>\n",
       "      <td>2024-07-31</td>\n",
       "      <td>Mercado da soja está atravessando um período d...</td>\n",
       "    </tr>\n",
       "    <tr>\n",
       "      <th>4</th>\n",
       "      <td>Queda na produção nacional impulsiona importaç...</td>\n",
       "      <td>https://www.agrolink.com.br/noticias/cultura/s...</td>\n",
       "      <td>2024-07-30</td>\n",
       "      <td>Paraguai é o principal fornecedor</td>\n",
       "    </tr>\n",
       "  </tbody>\n",
       "</table>\n",
       "</div>"
      ],
      "text/plain": [
       "                                          news_title  \\\n",
       "0                 Queda geral para os preços da soja   \n",
       "1           Soja negociada em Chicago fecha em baixa   \n",
       "2  Avanço na regulação torna Brasil promissor em ...   \n",
       "3   Saiba o que está influenciando os preços da soja   \n",
       "4  Queda na produção nacional impulsiona importaç...   \n",
       "\n",
       "                                                link  date_news  \\\n",
       "0  https://www.agrolink.com.br/noticias/cultura/s... 2024-07-31   \n",
       "1  https://www.agrolink.com.br/noticias/cultura/s... 2024-07-31   \n",
       "2  https://www.agrolink.com.br/noticias/cultura/s... 2024-07-31   \n",
       "3  https://www.agrolink.com.br/noticias/cultura/s... 2024-07-31   \n",
       "4  https://www.agrolink.com.br/noticias/cultura/s... 2024-07-30   \n",
       "\n",
       "                                            news_sub  \n",
       "0  As quedas expressivas também ocorreram no Mato...  \n",
       "1  As cotações da oleaginosa seguem em queda acen...  \n",
       "2  “O crescimento dos bioinsumos no Brasil enfren...  \n",
       "3  Mercado da soja está atravessando um período d...  \n",
       "4                  Paraguai é o principal fornecedor  "
      ]
     },
     "execution_count": 35,
     "metadata": {},
     "output_type": "execute_result"
    }
   ],
   "source": [
    "df.head()"
   ]
  },
  {
   "cell_type": "code",
   "execution_count": 36,
   "metadata": {},
   "outputs": [],
   "source": [
    "def filter_by_today(df: pd.DataFrame):\n",
    "    try:\n",
    "        today = datetime.today().strftime(\"%Y-%m-%d\")\n",
    "        return df[df[\"date_news\"] == today]\n",
    "    except Exception as e:\n",
    "        print(f\"Failed to filter dataframe by today. Error: {e}\")\n",
    "        raise"
   ]
  },
  {
   "cell_type": "code",
   "execution_count": 37,
   "metadata": {},
   "outputs": [
    {
     "name": "stdout",
     "output_type": "stream",
     "text": [
      "Number of news: 4\n"
     ]
    }
   ],
   "source": [
    "df = filter_by_today(df)\n",
    "print(f\"Number of news: {len(df)}\")"
   ]
  },
  {
   "cell_type": "code",
   "execution_count": 38,
   "metadata": {},
   "outputs": [
    {
     "data": {
      "text/html": [
       "<div>\n",
       "<style scoped>\n",
       "    .dataframe tbody tr th:only-of-type {\n",
       "        vertical-align: middle;\n",
       "    }\n",
       "\n",
       "    .dataframe tbody tr th {\n",
       "        vertical-align: top;\n",
       "    }\n",
       "\n",
       "    .dataframe thead th {\n",
       "        text-align: right;\n",
       "    }\n",
       "</style>\n",
       "<table border=\"1\" class=\"dataframe\">\n",
       "  <thead>\n",
       "    <tr style=\"text-align: right;\">\n",
       "      <th></th>\n",
       "      <th>news_title</th>\n",
       "      <th>link</th>\n",
       "      <th>date_news</th>\n",
       "      <th>news_sub</th>\n",
       "    </tr>\n",
       "  </thead>\n",
       "  <tbody>\n",
       "    <tr>\n",
       "      <th>0</th>\n",
       "      <td>Queda geral para os preços da soja</td>\n",
       "      <td>https://www.agrolink.com.br/noticias/cultura/s...</td>\n",
       "      <td>2024-07-31</td>\n",
       "      <td>As quedas expressivas também ocorreram no Mato...</td>\n",
       "    </tr>\n",
       "    <tr>\n",
       "      <th>1</th>\n",
       "      <td>Soja negociada em Chicago fecha em baixa</td>\n",
       "      <td>https://www.agrolink.com.br/noticias/cultura/s...</td>\n",
       "      <td>2024-07-31</td>\n",
       "      <td>As cotações da oleaginosa seguem em queda acen...</td>\n",
       "    </tr>\n",
       "    <tr>\n",
       "      <th>2</th>\n",
       "      <td>Avanço na regulação torna Brasil promissor em ...</td>\n",
       "      <td>https://www.agrolink.com.br/noticias/cultura/s...</td>\n",
       "      <td>2024-07-31</td>\n",
       "      <td>“O crescimento dos bioinsumos no Brasil enfren...</td>\n",
       "    </tr>\n",
       "    <tr>\n",
       "      <th>3</th>\n",
       "      <td>Saiba o que está influenciando os preços da soja</td>\n",
       "      <td>https://www.agrolink.com.br/noticias/cultura/s...</td>\n",
       "      <td>2024-07-31</td>\n",
       "      <td>Mercado da soja está atravessando um período d...</td>\n",
       "    </tr>\n",
       "  </tbody>\n",
       "</table>\n",
       "</div>"
      ],
      "text/plain": [
       "                                          news_title  \\\n",
       "0                 Queda geral para os preços da soja   \n",
       "1           Soja negociada em Chicago fecha em baixa   \n",
       "2  Avanço na regulação torna Brasil promissor em ...   \n",
       "3   Saiba o que está influenciando os preços da soja   \n",
       "\n",
       "                                                link  date_news  \\\n",
       "0  https://www.agrolink.com.br/noticias/cultura/s... 2024-07-31   \n",
       "1  https://www.agrolink.com.br/noticias/cultura/s... 2024-07-31   \n",
       "2  https://www.agrolink.com.br/noticias/cultura/s... 2024-07-31   \n",
       "3  https://www.agrolink.com.br/noticias/cultura/s... 2024-07-31   \n",
       "\n",
       "                                            news_sub  \n",
       "0  As quedas expressivas também ocorreram no Mato...  \n",
       "1  As cotações da oleaginosa seguem em queda acen...  \n",
       "2  “O crescimento dos bioinsumos no Brasil enfren...  \n",
       "3  Mercado da soja está atravessando um período d...  "
      ]
     },
     "execution_count": 38,
     "metadata": {},
     "output_type": "execute_result"
    }
   ],
   "source": [
    "df"
   ]
  },
  {
   "cell_type": "code",
   "execution_count": null,
   "metadata": {},
   "outputs": [],
   "source": []
  }
 ],
 "metadata": {
  "kernelspec": {
   "display_name": "venv",
   "language": "python",
   "name": "python3"
  },
  "language_info": {
   "codemirror_mode": {
    "name": "ipython",
    "version": 3
   },
   "file_extension": ".py",
   "mimetype": "text/x-python",
   "name": "python",
   "nbconvert_exporter": "python",
   "pygments_lexer": "ipython3",
   "version": "3.12.2"
  }
 },
 "nbformat": 4,
 "nbformat_minor": 2
}
