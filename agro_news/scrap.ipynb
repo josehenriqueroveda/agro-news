{
 "cells": [
  {
   "cell_type": "code",
   "execution_count": 1,
   "metadata": {},
   "outputs": [],
   "source": [
    "import os\n",
    "from datetime import datetime\n",
    "\n",
    "import pandas as pd\n",
    "import requests\n",
    "from bs4 import BeautifulSoup\n",
    "from dotenv import find_dotenv\n",
    "from dotenv import load_dotenv"
   ]
  },
  {
   "cell_type": "code",
   "execution_count": 2,
   "metadata": {},
   "outputs": [],
   "source": [
    "def get_soup(url):\n",
    "    try:\n",
    "        HEADERS = {\n",
    "            \"User-Agent\": \"Mozilla/5.0 (Windows NT 10.0; Win64; x64) AppleWebKit/537.36 (KHTML, like Gecko) Chrome/58.0.3029.110 Safari/537.3\"\n",
    "        }\n",
    "        response = requests.get(url, headers=HEADERS)\n",
    "        return BeautifulSoup(response.content, \"html.parser\")\n",
    "    except Exception as e:\n",
    "        print(f\"Failed to get soup from url {url}. Error: {e}\")\n",
    "        raise"
   ]
  },
  {
   "cell_type": "code",
   "execution_count": 3,
   "metadata": {},
   "outputs": [],
   "source": [
    "crop = \"milho\"\n",
    "URL = f\"https://www.agrolink.com.br/noticias/cultura/{crop}/lista\"\n",
    "soup = get_soup(URL)"
   ]
  },
  {
   "cell_type": "code",
   "execution_count": 4,
   "metadata": {},
   "outputs": [],
   "source": [
    "news_divs = soup.find_all('div', class_='col-auto col-blocks')"
   ]
  },
  {
   "cell_type": "code",
   "execution_count": 13,
   "metadata": {},
   "outputs": [],
   "source": [
    "news_list = []\n",
    "\n",
    "for div in news_divs:\n",
    "    news_item = {}\n",
    "    \n",
    "    # Extrair o título da notícia\n",
    "    news_title_tag = div.find('a', class_='news-list-main-link-title')\n",
    "    if news_title_tag:\n",
    "        news_item['news_title'] = news_title_tag.h4.text.strip()\n",
    "        news_item['link'] = news_title_tag['href']\n",
    "    \n",
    "    # Extrair a data\n",
    "    date_tag = div.find_all('a')[1]\n",
    "    if date_tag:\n",
    "        news_item['date'] = date_tag.text.strip().split(' ')[-2]\n",
    "    \n",
    "    # Extrair a descrição da notícia\n",
    "    news_sub_tag = div.find('a', class_='news-list-main-link-description')\n",
    "    if news_sub_tag:\n",
    "        news_item['news_sub'] = news_sub_tag.text.strip()\n",
    "    \n",
    "    if news_item:\n",
    "        news_list.append(news_item)"
   ]
  },
  {
   "cell_type": "code",
   "execution_count": 14,
   "metadata": {},
   "outputs": [
    {
     "data": {
      "text/plain": [
       "[{'news_title': 'Mercado de milho movimentado: Confira',\n",
       "  'link': '/noticias/cultura/milho/mercado-de-milho-movimentado--confira_493542.html',\n",
       "  'date': '31/07/2024',\n",
       "  'news_sub': 'No Paraná os exportadores reavaliam programas'},\n",
       " {'news_title': 'Milho cai na B3: Entenda os motivos',\n",
       "  'link': '/noticias/cultura/milho/milho-cai-na-b3--entenda-os-motivos_493541.html',\n",
       "  'date': '31/07/2024',\n",
       "  'news_sub': 'Na Bolsa de Chicago, o milho fechou em baixa com clima e boas condições das lavouras'},\n",
       " {'news_title': 'Avanço na regulação torna Brasil promissor em bioinsumos',\n",
       "  'link': '/noticias/cultura/milho/avanco-na-regulacao-torna-brasil-promissor-em-bioinsumos_493538.html',\n",
       "  'date': '31/07/2024',\n",
       "  'news_sub': '“O crescimento dos bioinsumos no Brasil enfrenta desafios”'},\n",
       " {'news_title': 'Produção global e clima nos EUA impactam preço do milho',\n",
       "  'link': '/noticias/cultura/milho/producao-global-e-clima-nos-eua-impactam-preco-do-milho_493529.html',\n",
       "  'date': '30/07/2024',\n",
       "  'news_sub': 'Preço do milho em Chicago está 25,99% menor em relação ao mesmo período de 2023'},\n",
       " {'news_title': 'Safra de milho superam média dos últimos cinco anos nos EUA',\n",
       "  'link': '/noticias/cultura/milho/safra-de-milho-superam-media-dos-ultimos-cinco-anos-nos-eua_493523.html',\n",
       "  'date': '30/07/2024',\n",
       "  'news_sub': 'La Niña gera preocupação'},\n",
       " {'news_title': 'Milho: demanda internacional em baixa e mercado interno ativo',\n",
       "  'link': '/noticias/cultura/milho/milho--demanda-internacional-em-baixa-e-mercado-interno-ativo_493514.html',\n",
       "  'date': '30/07/2024',\n",
       "  'news_sub': 'As cotações de milho poderão recuar esta semana'},\n",
       " {'news_title': 'Safra 2024/25: Soja cresce, milho encolhe',\n",
       "  'link': '/noticias/cultura/milho/safra-2024-25--soja-cresce--milho-encolhe_493505.html',\n",
       "  'date': '30/07/2024',\n",
       "  'news_sub': 'Consultoria fez levantamento sobre as safras'},\n",
       " {'news_title': 'Como o milho iniciou a semana?',\n",
       "  'link': '/noticias/cultura/milho/como-o-milho-iniciou-a-semana-_493498.html',\n",
       "  'date': '30/07/2024',\n",
       "  'news_sub': 'No Paraná, o interior melhora indicações'},\n",
       " {'news_title': 'Argentina produzirá e exportará mais trigo',\n",
       "  'link': '/noticias/cultura/milho/argentina-produzira-e-exportara-mais-trigo_493479.html',\n",
       "  'date': '29/07/2024',\n",
       "  'news_sub': 'As exportações de trigo são estimadas em 12,4 milhões de toneladas'},\n",
       " {'news_title': 'Preços do milho sobem com alta do dólar',\n",
       "  'link': '/noticias/cultura/milho/precos-do-milho-sobem-com-alta-do-dolar_493471.html',\n",
       "  'date': '29/07/2024',\n",
       "  'news_sub': 'Cenário favorável tem refletido diretamente nos valores praticados no mercado interno'},\n",
       " {'news_title': 'Como o milho encerrou a semana?',\n",
       "  'link': '/noticias/cultura/milho/como-o-milho-encerrou-a-semana-_493461.html',\n",
       "  'date': '29/07/2024',\n",
       "  'news_sub': 'O mercado no Paraná apresenta bons movimentos aparentes no porto'},\n",
       " {'news_title': 'Milho permanece forte na B3',\n",
       "  'link': '/noticias/cultura/milho/milho-permanece-forte-na-b3_493460.html',\n",
       "  'date': '29/07/2024',\n",
       "  'news_sub': 'Em Chicago o milho fechou em baixa com realização de lucros'}]"
      ]
     },
     "execution_count": 14,
     "metadata": {},
     "output_type": "execute_result"
    }
   ],
   "source": [
    "news_list"
   ]
  }
 ],
 "metadata": {
  "kernelspec": {
   "display_name": "venv",
   "language": "python",
   "name": "python3"
  },
  "language_info": {
   "codemirror_mode": {
    "name": "ipython",
    "version": 3
   },
   "file_extension": ".py",
   "mimetype": "text/x-python",
   "name": "python",
   "nbconvert_exporter": "python",
   "pygments_lexer": "ipython3",
   "version": "3.12.2"
  }
 },
 "nbformat": 4,
 "nbformat_minor": 2
}
